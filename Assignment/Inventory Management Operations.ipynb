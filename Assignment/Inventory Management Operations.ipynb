{
 "cells": [
  {
   "cell_type": "markdown",
   "id": "343322fb",
   "metadata": {},
   "source": [
    "### Creating json file or products"
   ]
  },
  {
   "cell_type": "code",
   "execution_count": 5,
   "id": "f85fbb46",
   "metadata": {},
   "outputs": [],
   "source": [
    " products = {   1001 : {\"name\":\"KITKAT\",                  \"price\":15,  \"quan\":50,  \"expiry\":\"20 oct 2023\",  \"brand\":\"Nestle\"},\n",
    "                1002 : {\"name\":\"Diet Coke\",               \"price\":120,  \"quan\":130, \"expiry\":\"12 jan 2022\",  \"brand\":\"Cococola\"},\n",
    "                1003 : {\"name\":\"Active popcorn\",          \"price\":48,   \"quan\":145, \"expiry\":\"10 mar 2023\",  \"brand\":\"Active\"},\n",
    "                1004 : {\"name\":\"Johnson baby powder\",     \"price\":52,   \"quan\":122, \"expiry\":\"23 jun 2023\",  \"brand\":\"Johnson\"},\n",
    "                1005 : {\"name\":\"Beardo hair oil\",         \"price\":485,  \"quan\":30,  \"expiry\":\"30 oct 2022\",  \"brand\":\"Beardo\"},\n",
    "                1006 : {\"name\":\"Saffola Active\",          \"price\":107,  \"quan\":58,  \"expiry\":\"29 jan 2022\",  \"brand\":\"Saffola\"},\n",
    "                1007 : {\"name\":\"Kitkat Desert\",           \"price\":55,   \"quan\":59,  \"expiry\":\"31 aug 2022\",  \"brand\":\"Nestle\"},\n",
    "                1008 : {\"name\":\"Dark Fantasy\",            \"price\":90,   \"quan\":90,  \"expiry\":\"21 feb 2022\",  \"brand\":\"Dark Fantasy\"},\n",
    "                1009 : {\"name\":\"Candyman Fantasy\",        \"price\":80,   \"quan\":95,  \"expiry\":\"28 dec 2021\",  \"brand\":\"Candyman Fantastik\"},\n",
    "                1010 : {\"name\":\"Lotte Choco Pie\",         \"price\":110,  \"quan\":95,  \"expiry\":\"01 jun 2022\",  \"brand\":\"Lotte\"},\n",
    "                1011 : {\"name\":\"Britania Chocolatecake\",  \"price\":120,  \"quan\":100, \"expiry\":\"15 jul 2022\",  \"brand\":\"Britania\"},\n",
    "                1012 : {\"name\":\"Pillsbury cookes cake\",   \"price\":90,   \"quan\":200, \"expiry\":\"02 dec 2021\",  \"brand\":\"Pillsbury\"},\n",
    "                1013 : {\"name\":\"Kraft Oreo Cake\",         \"price\":249,  \"quan\":120, \"expiry\":\"30 dec 2021\",  \"brand\":\"Oreo\"},\n",
    "                1014 : {\"name\":\"Mom's Magic Cashew\",      \"price\":80,   \"quan\":180, \"expiry\":\"19 mar 2022\",  \"brand\":\"Sunfeast\"},\n",
    "                1015 : {\"name\":\"Cadbury Oreo chacolate\",  \"price\":60,   \"quan\":185, \"expiry\":\"19 feb 2022\",  \"brand\":\"Cadbury\"},\n",
    "                1016 : {\"name\":\"Betty Croker Pancake\",    \"price\":346,  \"quan\":190, \"expiry\":\"15 jan 2022\",  \"brand\":\"Betty Croker\"},\n",
    "                1017 : {\"name\":\"Parle G Original\",        \"price\":67,   \"quan\":140, \"expiry\":\"13 dec 2011\",  \"brand\":\"Parle\"},\n",
    "                1018 : {\"name\":\"Lays Potato Chips\",       \"price\":30,   \"quan\":450, \"expiry\":\"14 feb 2023\",  \"brand\":\"Lay's\"},\n",
    "                1019 : {\"name\":\"Bingo! Mad Angle\",        \"price\":25,   \"quan\":440, \"expiry\":\"20 dec 2023\",  \"brand\":\"Bingo!\"},\n",
    "                1020 : {\"name\":\"Kellogg's pringles\",      \"price\":85,   \"quan\":400, \"expiry\":\"25 jan 2024\",  \"brand\":\"Kellog's\"},\n",
    "                1021 : {\"name\":\"Dorito's Nacho Chips\",    \"price\":90,   \"quan\":360, \"expiry\":\"22 jan 2023\",  \"brand\":\"Dorito's\"},\n",
    "                1022 : {\"name\":\"Thums Up Drink\",          \"price\":40,   \"quan\":60,  \"expiry\":\"20 dec 2024\",  \"brand\":\"Thums Up\"},\n",
    "                1023 : {\"name\":\"Mineral Water\",           \"price\":55,   \"quan\":70,  \"expiry\":\"20 jun 2023\",  \"brand\":\"Bisleri\"},\n",
    "                1024 : {\"name\":\"Coca-Cola\",               \"price\":65,   \"quan\":60,  \"expiry\":\"22 jul 2023\",  \"brand\":\"Coca Cola\"},\n",
    "                1025 : {\"name\":\"Sprite Lime Flavor\",      \"price\":89,   \"quan\":40,  \"expiry\":\"20 nov 2023\",  \"brand\":\"Sprite\"},\n",
    "                1026 : {\"name\":\"Colgate Maxfresh\",        \"price\":215,  \"quan\":55,  \"expiry\":\"20 jun 2024\",  \"brand\":\"Colgate\"},\n",
    "                1027 : {\"name\":\"Pepsodent Gum Care\",      \"price\":300,  \"quan\":150, \"expiry\":\"15 jul 2022\",  \"brand\":\"Pepsodent\"},\n",
    "                1028 : {\"name\":\"Dabur Amla Hair Oil\",     \"price\":247,  \"quan\":100, \"expiry\":\"10 aug 2024\",  \"brand\":\"DABUR\"},\n",
    "                1029 : {\"name\":\"Nivea Men Face Wash\",     \"price\":149,  \"quan\":98,  \"expiry\":\"31 jul 2022\",  \"brand\":\"Nivea\"},\n",
    "                1030 : {\"name\":\"Pepsi\",                   \"price\":104, \"quan\":200, \"expiry\":\"22 may 2022\",  \"brand\":\"Pepsi\"},\n",
    "                1031 : {\"name\":\"Himalaya Baby Powder\",    \"price\":243,  \"quan\":150, \"expiry\":\"31 may 2024\",  \"brand\":\"Himalaya\"},\n",
    "                1032 : {\"name\":\"Dairy Milk Silk\",         \"price\":475,  \"quan\":50,  \"expiry\":\"31 jan 2022\",  \"brand\":\"Cadbury\"}}"
   ]
  },
  {
   "cell_type": "code",
   "execution_count": 6,
   "id": "3c9c6641",
   "metadata": {},
   "outputs": [],
   "source": [
    "import json\n",
    "js = json.dumps(products)\n",
    "fd = open(\"pro_records.json\", \"w\")\n",
    "fd.write(js)\n",
    "fd.close()\n"
   ]
  },
  {
   "cell_type": "markdown",
   "id": "c8a57d8b",
   "metadata": {},
   "source": [
    "### Reading the files "
   ]
  },
  {
   "cell_type": "code",
   "execution_count": 7,
   "id": "158623e6",
   "metadata": {},
   "outputs": [],
   "source": [
    "fd = open(\"pro_records.json\", \"r\")\n",
    "prod = fd.read()\n",
    "fd.close()"
   ]
  },
  {
   "cell_type": "code",
   "execution_count": 8,
   "id": "a8241efb",
   "metadata": {},
   "outputs": [],
   "source": [
    "products = json.loads(prod)"
   ]
  },
  {
   "cell_type": "code",
   "execution_count": 29,
   "id": "53d46512",
   "metadata": {},
   "outputs": [
    {
     "data": {
      "text/plain": [
       "{'1001': {'name': 'KITKAT',\n",
       "  'price': 15,\n",
       "  'quan': 50,\n",
       "  'expiry': '20 oct 2023',\n",
       "  'brand': 'Nestle'},\n",
       " '1002': {'name': 'Diet Coke',\n",
       "  'price': 120,\n",
       "  'quan': 130,\n",
       "  'expiry': '12 jan 2022',\n",
       "  'brand': 'Cococola'},\n",
       " '1003': {'name': 'Active popcorn',\n",
       "  'price': 48,\n",
       "  'quan': 145,\n",
       "  'expiry': '10 mar 2023',\n",
       "  'brand': 'Active'},\n",
       " '1004': {'name': 'Johnson baby powder',\n",
       "  'price': 52,\n",
       "  'quan': 122,\n",
       "  'expiry': '23 jun 2023',\n",
       "  'brand': 'Johnson'},\n",
       " '1005': {'name': 'Beardo hair oil',\n",
       "  'price': 485,\n",
       "  'quan': 30,\n",
       "  'expiry': '30 oct 2022',\n",
       "  'brand': 'Beardo'},\n",
       " '1006': {'name': 'Saffola Active',\n",
       "  'price': 107,\n",
       "  'quan': 58,\n",
       "  'expiry': '29 jan 2022',\n",
       "  'brand': 'Saffola'},\n",
       " '1007': {'name': 'Kitkat Desert',\n",
       "  'price': 55,\n",
       "  'quan': 59,\n",
       "  'expiry': '31 aug 2022',\n",
       "  'brand': 'Nestle'},\n",
       " '1008': {'name': 'Dark Fantasy',\n",
       "  'price': 90,\n",
       "  'quan': 90,\n",
       "  'expiry': '21 feb 2022',\n",
       "  'brand': 'Dark Fantasy'},\n",
       " '1009': {'name': 'Candyman Fantasy',\n",
       "  'price': 80,\n",
       "  'quan': 95,\n",
       "  'expiry': '28 dec 2021',\n",
       "  'brand': 'Candyman Fantastik'},\n",
       " '1010': {'name': 'Lotte Choco Pie',\n",
       "  'price': 110,\n",
       "  'quan': 95,\n",
       "  'expiry': '01 jun 2022',\n",
       "  'brand': 'Lotte'},\n",
       " '1011': {'name': 'Britania Chocolatecake',\n",
       "  'price': 120,\n",
       "  'quan': 100,\n",
       "  'expiry': '15 jul 2022',\n",
       "  'brand': 'Britania'},\n",
       " '1012': {'name': 'Pillsbury cookes cake',\n",
       "  'price': 90,\n",
       "  'quan': 200,\n",
       "  'expiry': '02 dec 2021',\n",
       "  'brand': 'Pillsbury'},\n",
       " '1013': {'name': 'Kraft Oreo Cake',\n",
       "  'price': 249,\n",
       "  'quan': 120,\n",
       "  'expiry': '30 dec 2021',\n",
       "  'brand': 'Oreo'},\n",
       " '1014': {'name': \"Mom's Magic Cashew\",\n",
       "  'price': 80,\n",
       "  'quan': 180,\n",
       "  'expiry': '19 mar 2022',\n",
       "  'brand': 'Sunfeast'},\n",
       " '1015': {'name': 'Cadbury Oreo chacolate',\n",
       "  'price': 60,\n",
       "  'quan': 185,\n",
       "  'expiry': '19 feb 2022',\n",
       "  'brand': 'Cadbury'},\n",
       " '1016': {'name': 'Betty Croker Pancake',\n",
       "  'price': 346,\n",
       "  'quan': 190,\n",
       "  'expiry': '15 jan 2022',\n",
       "  'brand': 'Betty Croker'},\n",
       " '1017': {'name': 'Parle G Original',\n",
       "  'price': 67,\n",
       "  'quan': 140,\n",
       "  'expiry': '13 dec 2011',\n",
       "  'brand': 'Parle'},\n",
       " '1018': {'name': 'Lays Potato Chips',\n",
       "  'price': 30,\n",
       "  'quan': 450,\n",
       "  'expiry': '14 feb 2023',\n",
       "  'brand': \"Lay's\"},\n",
       " '1019': {'name': 'Bingo! Mad Angle',\n",
       "  'price': 25,\n",
       "  'quan': 440,\n",
       "  'expiry': '20 dec 2023',\n",
       "  'brand': 'Bingo!'},\n",
       " '1020': {'name': \"Kellogg's pringles\",\n",
       "  'price': 85,\n",
       "  'quan': 400,\n",
       "  'expiry': '25 jan 2024',\n",
       "  'brand': \"Kellog's\"},\n",
       " '1021': {'name': \"Dorito's Nacho Chips\",\n",
       "  'price': 90,\n",
       "  'quan': 360,\n",
       "  'expiry': '22 jan 2023',\n",
       "  'brand': \"Dorito's\"},\n",
       " '1022': {'name': 'Thums Up Drink',\n",
       "  'price': 40,\n",
       "  'quan': 60,\n",
       "  'expiry': '20 dec 2024',\n",
       "  'brand': 'Thums Up'},\n",
       " '1023': {'name': 'Mineral Water',\n",
       "  'price': 55,\n",
       "  'quan': 70,\n",
       "  'expiry': '20 jun 2023',\n",
       "  'brand': 'Bisleri'},\n",
       " '1024': {'name': 'Coca-Cola',\n",
       "  'price': 65,\n",
       "  'quan': 60,\n",
       "  'expiry': '22 jul 2023',\n",
       "  'brand': 'Coca Cola'},\n",
       " '1025': {'name': 'Sprite Lime Flavor',\n",
       "  'price': 89,\n",
       "  'quan': 40,\n",
       "  'expiry': '20 nov 2023',\n",
       "  'brand': 'Sprite'},\n",
       " '1026': {'name': 'Colgate Maxfresh',\n",
       "  'price': 215,\n",
       "  'quan': 55,\n",
       "  'expiry': '20 jun 2024',\n",
       "  'brand': 'Colgate'},\n",
       " '1027': {'name': 'Pepsodent Gum Care',\n",
       "  'price': 300,\n",
       "  'quan': 150,\n",
       "  'expiry': '15 jul 2022',\n",
       "  'brand': 'Pepsodent'},\n",
       " '1028': {'name': 'Dabur Amla Hair Oil',\n",
       "  'price': 247,\n",
       "  'quan': 100,\n",
       "  'expiry': '10 aug 2024',\n",
       "  'brand': 'DABUR'},\n",
       " '1029': {'name': 'Nivea Men Face Wash',\n",
       "  'price': 149,\n",
       "  'quan': 98,\n",
       "  'expiry': '31 jul 2022',\n",
       "  'brand': 'Nivea'},\n",
       " '1030': {'name': 'Pepsi',\n",
       "  'price': 104,\n",
       "  'quan': 200,\n",
       "  'expiry': '22 may 2022',\n",
       "  'brand': 'Pepsi'},\n",
       " '1031': {'name': 'Himalaya Baby Powder',\n",
       "  'price': 243,\n",
       "  'quan': 150,\n",
       "  'expiry': '31 may 2024',\n",
       "  'brand': 'Himalaya'},\n",
       " '1032': {'name': 'Dairy Milk Silk',\n",
       "  'price': 475,\n",
       "  'quan': 50,\n",
       "  'expiry': '31 jan 2022',\n",
       "  'brand': 'Cadbury'}}"
      ]
     },
     "execution_count": 29,
     "metadata": {},
     "output_type": "execute_result"
    }
   ],
   "source": [
    "products"
   ]
  },
  {
   "cell_type": "markdown",
   "id": "d16ed169",
   "metadata": {},
   "source": [
    "### Adding products to Inventory"
   ]
  },
  {
   "cell_type": "code",
   "execution_count": 9,
   "id": "d72262e8",
   "metadata": {},
   "outputs": [
    {
     "name": "stdout",
     "output_type": "stream",
     "text": [
      "..............NEW PRODUCT ENTRY..............\n",
      "*********************************************\n",
      "Enter Product ID          :10035\n",
      "Enter Product Name        :Honey\n",
      "Enter Product price       :1000\n",
      "Enter Product quantity    :12\n",
      "Enter Product expiry date :11 july 2030\n",
      "Enter Product brand       :nature\n"
     ]
    }
   ],
   "source": [
    "print(\"..............NEW PRODUCT ENTRY..............\")\n",
    "print(\"*********************************************\")\n",
    "prod_id  = str(input(\"Enter Product ID          :\"))\n",
    "name     = str(input(\"Enter Product Name        :\"))\n",
    "price    = int(input(\"Enter Product price       :\"))\n",
    "quan     = int(input(\"Enter Product quantity    :\"))\n",
    "exp      = str(input(\"Enter Product expiry date :\"))\n",
    "brnd     = str(input(\"Enter Product brand       :\"))\n",
    "\n",
    "\n",
    "products[prod_id] = {'name': name, 'price': price, 'quan': quan, 'expiry':exp, 'brand':brnd }\n",
    "\n",
    "js = json.dumps(products)\n",
    "fd = open(\"pro_records.json\",'w')\n",
    "fd.write(js)\n",
    "fd.close()\n"
   ]
  },
  {
   "cell_type": "markdown",
   "id": "cc3f7b4d",
   "metadata": {},
   "source": [
    "###  Deleting the products\n"
   ]
  },
  {
   "cell_type": "code",
   "execution_count": 12,
   "id": "241602f7",
   "metadata": {},
   "outputs": [
    {
     "name": "stdout",
     "output_type": "stream",
     "text": [
      "...............PRODUCT DELETION................\n",
      "***********************************************\n",
      "Enter Product ID to be Deleted  :10035\n",
      "***********************************************\n",
      "the Item deleted is : {'name': 'Honey', 'price': 1000, 'quan': 12, 'expiry': '11 july 2030', 'brand': 'nature'}\n"
     ]
    }
   ],
   "source": [
    "print(\"...............PRODUCT DELETION................\")\n",
    "print(\"***********************************************\")\n",
    "\n",
    "del_id = str(input(\"Enter Product ID to be Deleted  :\"))\n",
    "print(\"***********************************************\")\n",
    "\n",
    "if del_id in products.keys():\n",
    "    print(\"the Item deleted is :\" ,products[del_id])\n",
    "\n",
    "    del products[del_id]\n",
    "    js = json.dumps(products)\n",
    "    fd = open(\"pro_records.json\",'w')\n",
    "    fd.write(js)\n",
    "    fd.close()\n",
    "else:\n",
    "    print(\"ID not found\")"
   ]
  },
  {
   "cell_type": "markdown",
   "id": "c6e8f1d6",
   "metadata": {},
   "source": [
    "### updating \n"
   ]
  },
  {
   "cell_type": "code",
   "execution_count": 16,
   "id": "6b412c95",
   "metadata": {},
   "outputs": [
    {
     "name": "stdout",
     "output_type": "stream",
     "text": [
      "...............PRODUCT Updation................\n",
      "***********************************************\n",
      "Enter Product ID to be Updated  :1001\n",
      "***********************************************\n",
      "press 1 for price updation\n",
      "press 2 for quantity updation\n",
      "Enter choice :  2\n",
      "Enter  quantity    :2067\n",
      "***********************************************\n"
     ]
    }
   ],
   "source": [
    "print(\"...............PRODUCT Updation................\")\n",
    "print(\"***********************************************\")\n",
    "\n",
    "p_id = str(input(\"Enter Product ID to be Updated  :\"))\n",
    "print(\"***********************************************\")\n",
    "print(\"press 1 for price updation\")\n",
    "print(\"press 2 for quantity updation\")\n",
    "u=int(input(\"Enter choice :  \"))\n",
    "if u==1:\n",
    "    pr = int(input(\"Enter  price       :\"))\n",
    "    products[p_id]['price']=pr\n",
    "    js = json.dumps(products)\n",
    "    fd = open(\"pro_records.json\",'w')\n",
    "    fd.write(js)\n",
    "    fd.close()\n",
    "elif u==2:\n",
    "    qu = int(input(\"Enter  quantity    :\"))\n",
    "    products[p_id]['quan']=qu\n",
    "    js = json.dumps(products)\n",
    "    fd = open(\"pro_records.json\",'w')\n",
    "    fd.write(js)\n",
    "    fd.close()\n",
    "else:\n",
    "    print(\"Invalid choice\")\n",
    "print(\"***********************************************\")\n"
   ]
  },
  {
   "cell_type": "code",
   "execution_count": null,
   "id": "61f33029",
   "metadata": {},
   "outputs": [],
   "source": [
    "\n"
   ]
  },
  {
   "cell_type": "code",
   "execution_count": null,
   "id": "5e884723",
   "metadata": {},
   "outputs": [],
   "source": []
  }
 ],
 "metadata": {
  "kernelspec": {
   "display_name": "Python 3",
   "language": "python",
   "name": "python3"
  },
  "language_info": {
   "codemirror_mode": {
    "name": "ipython",
    "version": 3
   },
   "file_extension": ".py",
   "mimetype": "text/x-python",
   "name": "python",
   "nbconvert_exporter": "python",
   "pygments_lexer": "ipython3",
   "version": "3.8.8"
  }
 },
 "nbformat": 4,
 "nbformat_minor": 5
}
